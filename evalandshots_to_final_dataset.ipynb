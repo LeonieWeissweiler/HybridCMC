{
 "cells": [
  {
   "cell_type": "code",
   "execution_count": null,
   "metadata": {},
   "outputs": [],
   "source": [
    "import pandas\n",
    "eval_file = \"production/production_data_12_true_annotated.tsv\"\n",
    "final_dataset_manual = \"production/production_data_12_true_annotated_manual.tsv\"\n",
    "final_dataset_extended = \"production/production_data_12_true_annotated_extended.tsv\"\n",
    "verbs_path = None\n",
    "\n",
    "with open(eval_file, \"r\") as f:\n",
    "    # load into pandas dataframe\n",
    "    df = pandas.read_csv(f, sep=\"\\t\", keep_default_na=False, header=0)\n",
    "    # remove explanation if present\n",
    "    if \"explanation\" in df.columns:\n",
    "        df = df.drop(columns=[\"explanation\"])\n",
    "    # write to final_dataset_manual\n",
    "    df.to_csv(final_dataset_manual, sep=\"\\t\",  index=False, header=True)\n",
    "\n",
    "    # group by verb and open appropriate verb file\n",
    "    for verb in df[\"verb\"].unique():\n",
    "        original_verb_df = df[df[\"verb\"] == verb]\n",
    "        try:\n",
    "            with open(verbs_path + \"{}.tsv\".format(verb), \"r\") as f:\n",
    "                additional_verb_df = pandas.read_csv(f, sep=\"\\t\", keep_default_na=False, header=0)\n",
    "                # go through all lines in original_verb_df, look for the same triple in additional_verb_df and add it to final_dataset_extended with the same annotation\n",
    "\n",
    "                for index, row in original_verb_df.iterrows():\n",
    "                        extended_df = additional_verb_df[(additional_verb_df[\"direct_object\"] == row[\"direct_object\"]) & (additional_verb_df[\"preposition\"] == row[\"preposition\"]) & (additional_verb_df[\"prepositional_object\"] == row[\"prepositional_object\"])]\n",
    "                        extended_df[\"annotation\"] = row[\"annotation\"]\n",
    "                        extended_df.to_csv(final_dataset_extended, sep=\"\\t\", index=False, header=True)\n",
    "                raise Exception  \n",
    "        except Exception as e:\n",
    "            print(e)\n",
    "            pass\n",
    "\n",
    "\n"
   ]
  },
  {
   "cell_type": "code",
   "execution_count": null,
   "metadata": {},
   "outputs": [],
   "source": []
  }
 ],
 "metadata": {
  "kernelspec": {
   "display_name": "spacy",
   "language": "python",
   "name": "python3"
  },
  "language_info": {
   "codemirror_mode": {
    "name": "ipython",
    "version": 3
   },
   "file_extension": ".py",
   "mimetype": "text/x-python",
   "name": "python",
   "nbconvert_exporter": "python",
   "pygments_lexer": "ipython3",
   "version": "3.10.13"
  }
 },
 "nbformat": 4,
 "nbformat_minor": 2
}
