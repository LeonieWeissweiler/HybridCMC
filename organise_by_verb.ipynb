{
 "cells": [
  {
   "cell_type": "code",
   "execution_count": null,
   "metadata": {},
   "outputs": [],
   "source": [
    "import pandas as pd\n",
    "import os\n",
    "from tqdm import tqdm\n",
    "in_folder = None\n",
    "out_folder = None\n",
    "# files are csv in format sentence,verb,direct_object,preposition,prepositional_object,direct_object_i,preposition_i,object_i\n",
    "# read in all files into one dataframe\n",
    "# make sure to check that they are files and not folders\n",
    "df = pd.DataFrame()\n",
    "for file in tqdm(os.listdir(in_folder)):\n",
    "    if os.path.isfile(os.path.join(in_folder,file)):\n",
    "        # custom read in function\n",
    "        # the headers are in the first line\n",
    "        # the separator is a comma\n",
    "        # there could be a comma in the first column, but the sixth column is always an integer\n",
    "        with open(os.path.join(in_folder,file)) as f:\n",
    "            header = f.readline().strip().split(\",\")\n",
    "            part_list = []\n",
    "            for line in f:\n",
    "                if line.strip() == \"\":\n",
    "                    continue\n",
    "                parts = line.strip().split(\",\")\n",
    "                while len(parts) != len(header):\n",
    "                    # merge the first two columns until the length is correct\n",
    "                    parts = [parts[0] + \",\" + parts[1]] + parts[2:]\n",
    "                part_list.append(parts)\n",
    "            df = pd.concat([df, pd.DataFrame(part_list,columns=header)])\n",
    "\n"
   ]
  },
  {
   "cell_type": "code",
   "execution_count": null,
   "metadata": {},
   "outputs": [],
   "source": [
    "df"
   ]
  },
  {
   "cell_type": "code",
   "execution_count": null,
   "metadata": {},
   "outputs": [],
   "source": [
    "# drop duplicates \n",
    "df.drop_duplicates(inplace=True)\n",
    "\n",
    "# drop verbs with non-alphabetical characters\n",
    "df = df[df.verb.str.isalpha()]\n"
   ]
  },
  {
   "cell_type": "code",
   "execution_count": null,
   "metadata": {},
   "outputs": [],
   "source": [
    "# group dataframe by verb\n",
    "grouped = df.groupby(\"verb\")"
   ]
  },
  {
   "cell_type": "code",
   "execution_count": null,
   "metadata": {},
   "outputs": [],
   "source": [
    "# create a dataframe for each verb\n",
    "for verb, group in tqdm(grouped):\n",
    "    group.to_csv(os.path.join(out_folder,verb+\".csv\"), index=False)\n",
    "    # grouped_combination = group.groupby([\"direct_object\", \"preposition\"])"
   ]
  },
  {
   "cell_type": "code",
   "execution_count": null,
   "metadata": {},
   "outputs": [],
   "source": [
    "import pandas as pd\n",
    "# pd.set_option('display.max_rows', None)\n",
    "out_folder = None\n",
    "\n",
    "# Load the file for a certain verb\n",
    "verb = \"sneeze\"\n",
    "combo_i = 5\n",
    "df = pd.read_csv(out_folder + verb + \".tsv\", sep=\"\\t\")\n",
    "# df = df[(df['direct_object'] != 'way') & (df['direct_object'] != 'shit') & (df['direct_object'] != 'fuck') & (df['direct_object'] != 'crap')]\n",
    "pronouns_to_replace = [\"he\", \"you\", \"it\", \"she\", \"I\", \"we\", \"yourself\", \"herself\", \"himself\", \"myself\"]\n",
    "# Replace pronouns in the 'direct_object' and 'prepositional_object' columns with 'PRON'\n",
    "df['direct_object'] = df['direct_object'].replace(pronouns_to_replace, 'PRON')\n",
    "df['prepositional_object'] = df['prepositional_object'].replace(pronouns_to_replace, 'PRON')\n",
    "\n",
    "# print(df)\n",
    "\n",
    "grouped_df = df.groupby('preposition').size().reset_index(name='count')\n",
    "\n",
    "print(grouped_df)\n",
    "\n",
    "\n",
    "sorted_df = grouped_df.sort_values(by='count', ascending=False)\n",
    "\n",
    "#    print(f\"Group: {group['direct_object']} {group['preposition']} {group['prepositional_object']} ({group['count']})\")\n",
    "# Iterate through groups and print content\n",
    "for i, (index, group) in enumerate(sorted_df.iterrows()):\n",
    "    print(f\"{group['preposition']}({group['count']})\\n\")\n",
    "    subgroup = df[(df['preposition'] == group['preposition'])]\n",
    "    \n",
    "    \n",
    "    \n",
    "    further_subgroup = subgroup.groupby(['direct_object', 'preposition', 'prepositional_object']).size().reset_index(name='count')\n",
    "    \n",
    "    # Sort the DataFrame by 'count' column in descending order\n",
    "    further_subgroup_sorted = further_subgroup.sort_values(by='count', ascending=False)\n",
    "\n",
    "    # Further group the subgroup by 'preposition' and print the first 5 items of each subgroup\n",
    "    for item_num, item in further_subgroup_sorted.head(combo_i).iterrows():\n",
    "        combo_count = further_subgroup[(further_subgroup['direct_object'] == item['direct_object']) & (further_subgroup['preposition'] == item['preposition']) & (further_subgroup['prepositional_object'] == item['prepositional_object'])]['count'].values[0]\n",
    "        full_item = df[(df['direct_object'] == item['direct_object']) & (df['preposition'] == item['preposition']) & (df['prepositional_object'] == item['prepositional_object'])]\n",
    "        print(combo_count, ' '.join(full_item[['direct_object', 'preposition', 'prepositional_object']].values.tolist()[0]))\n",
    "        print(\"\\t\", end=\"\")\n",
    "        print(\"\\n\\t\".join(full_item.head(5)['sentence'].values.tolist()))\n",
    "        print(\"\\n\")\n",
    "        \n",
    "    print(\"---------------------------------------------------\")\n",
    "    \n",
    "    #     # Break after the first 50 groups\n",
    "    # if i == 50:\n",
    "    #     break\n"
   ]
  },
  {
   "cell_type": "code",
   "execution_count": null,
   "metadata": {},
   "outputs": [],
   "source": []
  }
 ],
 "metadata": {
  "kernelspec": {
   "display_name": "spacy",
   "language": "python",
   "name": "python3"
  },
  "language_info": {
   "codemirror_mode": {
    "name": "ipython",
    "version": 3
   },
   "file_extension": ".py",
   "mimetype": "text/x-python",
   "name": "python",
   "nbconvert_exporter": "python",
   "pygments_lexer": "ipython3",
   "version": "3.10.13"
  }
 },
 "nbformat": 4,
 "nbformat_minor": 2
}
